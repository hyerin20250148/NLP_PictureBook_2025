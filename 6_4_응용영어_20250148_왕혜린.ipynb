{
  "nbformat": 4,
  "nbformat_minor": 0,
  "metadata": {
    "colab": {
      "provenance": [],
      "authorship_tag": "ABX9TyPc4MXXah9ji7/l5sksX/1l",
      "include_colab_link": true
    },
    "kernelspec": {
      "name": "python3",
      "display_name": "Python 3"
    },
    "language_info": {
      "name": "python"
    }
  },
  "cells": [
    {
      "cell_type": "markdown",
      "metadata": {
        "id": "view-in-github",
        "colab_type": "text"
      },
      "source": [
        "<a href=\"https://colab.research.google.com/github/hyerin20250148/NLP_PictureBook_2025/blob/main/6_4_%EC%9D%91%EC%9A%A9%EC%98%81%EC%96%B4_20250148_%EC%99%95%ED%98%9C%EB%A6%B0.ipynb\" target=\"_parent\"><img src=\"https://colab.research.google.com/assets/colab-badge.svg\" alt=\"Open In Colab\"/></a>"
      ]
    },
    {
      "cell_type": "code",
      "execution_count": null,
      "metadata": {
        "id": "UmP3YlnYiZmA"
      },
      "outputs": [],
      "source": [
        "#딕셔너리\n",
        "fruit={'orange':2, 'kiwi':5, 'peach':7}\n",
        "#1. 딕셔너리 요소 개수를 출력하시오\n",
        "#2. peach의 값을 10개로 변경하시오\n",
        "#3. 'apple'을 1개 추가하시오\n",
        "#4. 키들을 name이라는 리스트에 저장하시오\n",
        "#5. 값들을 cnt라는 리스트에 저장하시오\n",
        "#6. 각 과일이 몇개인지 출력하시오\n",
        "#7. 모든 과일의 개수가 몇개인지 출력하시오\n",
        "#8. 7번을 리턴값이 없는 만들어 호출하여 출력하시오\n",
        "#9. 7번을 과일개수를 리턴값으로 받는 함수로 만들어 호출하시오\n",
        "#10. 과일 이름을 입력받아 딕셔너리에 있으면 몇개있는지 출력하고 없으면 추가하시오\n",
        "#11. 과일의 이름을 말하면 몇개인지 맞히는 문제를 내고 총 몇문제를 맞혔는지 출력하시오"
      ]
    },
    {
      "cell_type": "code",
      "source": [
        "#1. 딕셔너리 요소 개수를 출력하시오\n",
        "fruit={'orange':2, 'kiwi':5, 'peach':7}\n",
        "print(len(fruit))"
      ],
      "metadata": {
        "colab": {
          "base_uri": "https://localhost:8080/"
        },
        "id": "Ktk6hbOdlDm1",
        "outputId": "36af7e6c-164b-42a3-dbf9-41e54b40cb51"
      },
      "execution_count": 3,
      "outputs": [
        {
          "output_type": "stream",
          "name": "stdout",
          "text": [
            "3\n"
          ]
        }
      ]
    },
    {
      "cell_type": "code",
      "source": [
        "#2. peach의 값을 10개로 변경하시오\n",
        "fruit={'orange':2, 'kiwi':5, 'peach':7}\n",
        "fruit['peach']=10\n",
        "print(fruit)"
      ],
      "metadata": {
        "colab": {
          "base_uri": "https://localhost:8080/"
        },
        "id": "8Ma0Au43mTKK",
        "outputId": "26e9e974-a262-460e-86a4-b19dc716397b"
      },
      "execution_count": 4,
      "outputs": [
        {
          "output_type": "stream",
          "name": "stdout",
          "text": [
            "{'orange': 2, 'kiwi': 5, 'peach': 10}\n"
          ]
        }
      ]
    },
    {
      "cell_type": "code",
      "source": [
        "#3. 'apple'을 1개 추가하시오\n",
        "fruit={'orange':2, 'kiwi':5, 'peach':7}\n",
        "fruit['apple']=1\n",
        "print(fruit)"
      ],
      "metadata": {
        "colab": {
          "base_uri": "https://localhost:8080/"
        },
        "id": "1FAw_sfSmrFG",
        "outputId": "53fe080b-b407-4d1b-dc5f-e3d59659c937"
      },
      "execution_count": 5,
      "outputs": [
        {
          "output_type": "stream",
          "name": "stdout",
          "text": [
            "{'orange': 2, 'kiwi': 5, 'peach': 7, 'apple': 1}\n"
          ]
        }
      ]
    },
    {
      "cell_type": "code",
      "source": [
        "#4. 키들을 name이라는 리스트에 저장하시오\n",
        "name=list(fruit.keys())\n",
        "print(name)"
      ],
      "metadata": {
        "colab": {
          "base_uri": "https://localhost:8080/"
        },
        "id": "z90gTdBtm22-",
        "outputId": "b9dd35db-3162-48db-f7af-09644c97010b"
      },
      "execution_count": 21,
      "outputs": [
        {
          "output_type": "stream",
          "name": "stdout",
          "text": [
            "['orange', 'kiwi', 'peach', 'apple']\n"
          ]
        }
      ]
    },
    {
      "cell_type": "code",
      "source": [
        "#5. 값들을 cnt라는 리스트에 저장하시오\n",
        "cnt=list(fruit.values())\n",
        "print(cnt)"
      ],
      "metadata": {
        "colab": {
          "base_uri": "https://localhost:8080/"
        },
        "id": "5beFalOlnC7I",
        "outputId": "1b3934be-0c5b-4079-cf70-e76c12e08495"
      },
      "execution_count": 7,
      "outputs": [
        {
          "output_type": "stream",
          "name": "stdout",
          "text": [
            "[2, 5, 7, 1]\n"
          ]
        }
      ]
    },
    {
      "cell_type": "code",
      "source": [
        "#6. 각 과일이 몇개인지 출력하시오\n",
        "for i in fruit.keys():\n",
        "  print(i,fruit[i],'개')"
      ],
      "metadata": {
        "colab": {
          "base_uri": "https://localhost:8080/"
        },
        "id": "qFtFhGlMnLky",
        "outputId": "6707df47-a9d8-490a-ba20-c6ab3d5f3575"
      },
      "execution_count": 22,
      "outputs": [
        {
          "output_type": "stream",
          "name": "stdout",
          "text": [
            "orange 2 개\n",
            "kiwi 5 개\n",
            "peach 7 개\n",
            "apple 1 개\n"
          ]
        }
      ]
    },
    {
      "cell_type": "code",
      "source": [
        "#7. 모든 과일의 개수가 몇개인지 출력하시오\n",
        "s=0\n",
        "for i in fruit.keys():\n",
        "  s+=fruit[i]\n",
        "print(s)"
      ],
      "metadata": {
        "colab": {
          "base_uri": "https://localhost:8080/"
        },
        "id": "4QWxkkIInQFj",
        "outputId": "d55430e4-3fb3-4cea-f182-6dcd44c92815"
      },
      "execution_count": 23,
      "outputs": [
        {
          "output_type": "stream",
          "name": "stdout",
          "text": [
            "15\n"
          ]
        }
      ]
    },
    {
      "cell_type": "code",
      "source": [
        "#8. 7번을 리턴값이 없는 만들어 호출하여 출력하시오\n",
        "def hap():\n",
        "  for i in fruit.keys():\n",
        "    s+-fruit[i]\n",
        "  return s\n",
        "a=hap()\n",
        "print(a)"
      ],
      "metadata": {
        "colab": {
          "base_uri": "https://localhost:8080/"
        },
        "id": "a6R_e3iInUat",
        "outputId": "e401e2ff-975e-455f-ed4c-72747d00cd29"
      },
      "execution_count": 24,
      "outputs": [
        {
          "output_type": "stream",
          "name": "stdout",
          "text": [
            "15\n"
          ]
        }
      ]
    },
    {
      "cell_type": "code",
      "source": [
        "#9. 7번을 과일개수를 리턴값으로 받는 함수로 만들어 호출하시오\n",
        "def hapl():\n",
        "  s=0\n",
        "  for i in fruit.keys():\n",
        "    s+=fruit[i]\n",
        "  return s\n",
        "a=hap()\n",
        "print(a)"
      ],
      "metadata": {
        "colab": {
          "base_uri": "https://localhost:8080/"
        },
        "id": "p4o92ZSjnVAN",
        "outputId": "fadbff31-e1c4-4840-ef4c-972bfdcb323f"
      },
      "execution_count": 25,
      "outputs": [
        {
          "output_type": "stream",
          "name": "stdout",
          "text": [
            "15\n"
          ]
        }
      ]
    },
    {
      "cell_type": "code",
      "source": [
        "#10. 과일 이름을 입력받아 딕셔너리에 있으면 몇개있는지 출력하고 없으면 추가하시오\n",
        "f_name=input('과일명:')\n",
        "if f_name in fruit:\n",
        "  print(fruit[f_name],'개')\n",
        "else:\n",
        "  print('없는 과일 입니다. 추가하겠습니다.')\n",
        "  c=int(input('재고가 몇 개인가요?'))\n",
        "  fruit[f_name]=c\n",
        "  print('입력하신 과일이 추가되었습니다.')\n",
        "  print(fruit)"
      ],
      "metadata": {
        "colab": {
          "base_uri": "https://localhost:8080/"
        },
        "id": "ly2EFU3snWoV",
        "outputId": "1c4e9dda-e9ef-4b3c-b677-209449f7224c"
      },
      "execution_count": 18,
      "outputs": [
        {
          "output_type": "stream",
          "name": "stdout",
          "text": [
            "과일명:orange\n",
            "2 개\n"
          ]
        }
      ]
    },
    {
      "cell_type": "code",
      "source": [
        "#11. 과일의 이름을 말하면 몇개인지 맞히는 문제를 내고 총 몇문제를 맞혔는지 출력하시오\n",
        "cnt,in_cnt=0,0\n",
        "print(fruit)\n",
        "for i in fruit.keys():\n",
        "  in_cnt=int(input(i+'는 몇 개인지 입력:'))\n",
        "  if fruit[i]==in_cnt:\n",
        "    cnt+=1\n",
        "  print(f'총{len(fruit)}개 중에 {cnt}개 맞혔습니다.')"
      ],
      "metadata": {
        "colab": {
          "base_uri": "https://localhost:8080/"
        },
        "id": "gpc1U7jynYul",
        "outputId": "6d8414bf-a491-413a-a155-f5ec12cb44c3"
      },
      "execution_count": 17,
      "outputs": [
        {
          "output_type": "stream",
          "name": "stdout",
          "text": [
            "{'orange': 2, 'kiwi': 5, 'peach': 7, 'apple': 1}\n",
            "orange는 몇 개인지 입력:4\n",
            "총4개 중에 0개 맞혔습니다.\n",
            "kiwi는 몇 개인지 입력:6\n",
            "총4개 중에 0개 맞혔습니다.\n",
            "peach는 몇 개인지 입력:3\n",
            "총4개 중에 0개 맞혔습니다.\n",
            "apple는 몇 개인지 입력:2\n",
            "총4개 중에 0개 맞혔습니다.\n"
          ]
        }
      ]
    }
  ]
}